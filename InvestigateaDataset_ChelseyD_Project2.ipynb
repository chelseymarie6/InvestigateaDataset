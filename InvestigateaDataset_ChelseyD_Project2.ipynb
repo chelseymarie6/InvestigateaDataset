{
 "cells": [
  {
   "cell_type": "markdown",
   "metadata": {},
   "source": [
    "# Project 2. Investigating Medical Appointments in Brazil: Predicting Attendance\n",
    "\n",
    "## Table of Contents\n",
    "<ul>\n",
    "<li><a href=\"#intro\">Introduction</a></li>\n",
    "<li><a href=\"#wrangling\">Data Wrangling</a></li>\n",
    "<li><a href=\"#eda\">Exploratory Data Analysis</a></li>\n",
    "<li><a href=\"#conclusions\">Conclusions</a></li>\n",
    "<li><a href=\"#resources\">Resources</a></li>\n",
    "</ul>"
   ]
  },
  {
   "cell_type": "markdown",
   "metadata": {},
   "source": [
    "---------------------------------------------------------------------------------"
   ]
  },
  {
   "cell_type": "markdown",
   "metadata": {},
   "source": [
    "<a id='intro'></a>\n",
    "## Introduction\n",
    "\n",
    "<p>This dataset is a collection of information from 110,528 medical patients in Brazil, focused on whether patients arrived for their appointment or not, and patient data that may play a role in attendance.</p>\n",
    "\n",
    "<p>What factors are important in predicting if a patient will show up for their scheduled appointment? This includes:</p>\n",
    "<ul>\n",
    "    <li>Does gender and/or age play a role in attendance?</li>\n",
    "    <li>Does scheduling an appointment far in advance result in more or less patients attending their appointments?</li>\n",
    "    <li>Does having a handicap factor into attendance?</li>\n",
    "    <li>How do medical conditions affect a patient's attendance? Many patients have either hypertension, diabetes, alcoholism, or all three.</li>\n",
    "    <li>What is the overall percentage of patients who did/didn't attend their appointment?</li>\n",
    "</ul>\n",
    "\n",
    "\n",
    "<p> The data characteristics I will be working with are are below (included are my initial thoughts on how to explore each category):</p>\n",
    "<ul>\n",
    "<li>PatientId - a unique identifier for each individual</li>\n",
    "    <ul>\n",
    "        <li>There may be duplicate patientid #'s to show the same person with multiple appointments</li>\n",
    "    </ul>\n",
    "<li>AppointmentId - a unique identifier for an appointment</li> \n",
    "    <ul>\n",
    "    <li> There shouldn't be any duplicates</li>\n",
    "    </ul>    \n",
    "<li>Gender</li>\n",
    "    <ul>\n",
    "    <li>Can compare attendance for males vs. females</li>\n",
    "    </ul>\n",
    "<li>ScheduledDay - the date time group for the scheduled appointment</li>\n",
    "    <ul>\n",
    "    <li>I may need to change the format</li>\n",
    "    </ul>\n",
    "<li>AppointmentDay - actual day of the appointment</li>\n",
    "    <ul>\n",
    "        <li>I can determine the number of days that have passed since the appointment was scheduled and if this is a factor in attendance</li>\n",
    "    </ul>\n",
    "<li>Age - ranges from 0 years old all the way to 115 years old!</li>\n",
    "   <ul>\n",
    "      <li>Age can be compared against medical condition(s) to see if that also plays a factor in attendance</li>\n",
    "    </ul>\n",
    "<li>Scholarship - if a patient is enrolled in the Brasilian welfare program, Bolsa Família.</li>\n",
    "    <ul>\n",
    "      <li>Having the finances to cover medical appointments, let alone treatments, could be an important factor in attendance.</li>\n",
    "    </ul>\n",
    "<li>Medial conditions - hypertension, diabetes, alcoholism, and handicap</li>\n",
    "    <ul>\n",
    "        <li>I can compare these to the other data points I mentioned above including age, scholarship, and use of text message, to determine whether patients with medical conditions were more or less likely to attend their appointment.</li>\n",
    "    </ul>\n",
    "<li>SMS_received - if patients did, or did not, get a text message reminder for their appointment</li>\n",
    "    <ul>\n",
    "      <li>Use of technology can certainly help remind patients of their appointment, however factors such as age, or even location, may affect use of technology.</li>\n",
    "    </ul>\n",
    "</ul>\n",
    "\n",
    "\n",
    "<p>My analysis will focus on whether a patient arrived at their appointment or not. My independent variables include time between scheduling their appointment and the appointment date, age of the patients, medical condition(s) of the patient, and if a text message was received (or not). I will not analyze neighborhood data or handicap data for this analysis..</p>"
   ]
  },
  {
   "cell_type": "code",
   "execution_count": 1,
   "metadata": {},
   "outputs": [],
   "source": [
    "#Setting up import statements for the packages I plan to use\n",
    "\n",
    "import datetime as dt\n",
    "from jupyterthemes import jtplot\n",
    "import matplotlib.pyplot as plt\n",
    "import numpy as np\n",
    "import pandas as pd\n",
    "import seaborn as sns\n",
    "\n",
    "%matplotlib inline\n",
    "jtplot.style(theme='onedork')"
   ]
  },
  {
   "cell_type": "markdown",
   "metadata": {},
   "source": [
    "---------------------------------------------------------------------------------"
   ]
  },
  {
   "cell_type": "markdown",
   "metadata": {},
   "source": [
    "<a id='wrangling'></a>\n",
    "## Data Wrangling: Gather, Assess, Clean\n",
    "\n",
    "<p>In this section I am loading the data, checking for cleanliness, and possibly trimming and cleaning my dataset for analysis.</p>"
   ]
  },
  {
   "cell_type": "markdown",
   "metadata": {},
   "source": [
    "### Gather and Assess"
   ]
  },
  {
   "cell_type": "code",
   "execution_count": 2,
   "metadata": {},
   "outputs": [
    {
     "data": {
      "text/html": [
       "<div>\n",
       "<style scoped>\n",
       "    .dataframe tbody tr th:only-of-type {\n",
       "        vertical-align: middle;\n",
       "    }\n",
       "\n",
       "    .dataframe tbody tr th {\n",
       "        vertical-align: top;\n",
       "    }\n",
       "\n",
       "    .dataframe thead th {\n",
       "        text-align: right;\n",
       "    }\n",
       "</style>\n",
       "<table border=\"1\" class=\"dataframe\">\n",
       "  <thead>\n",
       "    <tr style=\"text-align: right;\">\n",
       "      <th></th>\n",
       "      <th>PatientId</th>\n",
       "      <th>AppointmentID</th>\n",
       "      <th>Gender</th>\n",
       "      <th>ScheduledDay</th>\n",
       "      <th>AppointmentDay</th>\n",
       "      <th>Age</th>\n",
       "      <th>Neighbourhood</th>\n",
       "      <th>Scholarship</th>\n",
       "      <th>Hipertension</th>\n",
       "      <th>Diabetes</th>\n",
       "      <th>Alcoholism</th>\n",
       "      <th>Handcap</th>\n",
       "      <th>SMS_received</th>\n",
       "      <th>No-show</th>\n",
       "    </tr>\n",
       "  </thead>\n",
       "  <tbody>\n",
       "    <tr>\n",
       "      <th>0</th>\n",
       "      <td>3.196320e+13</td>\n",
       "      <td>5700278</td>\n",
       "      <td>F</td>\n",
       "      <td>2016-05-16T09:17:44Z</td>\n",
       "      <td>2016-05-19T00:00:00Z</td>\n",
       "      <td>115</td>\n",
       "      <td>ANDORINHAS</td>\n",
       "      <td>0</td>\n",
       "      <td>0</td>\n",
       "      <td>0</td>\n",
       "      <td>0</td>\n",
       "      <td>1</td>\n",
       "      <td>0</td>\n",
       "      <td>Yes</td>\n",
       "    </tr>\n",
       "    <tr>\n",
       "      <th>1</th>\n",
       "      <td>3.196320e+13</td>\n",
       "      <td>5700279</td>\n",
       "      <td>F</td>\n",
       "      <td>2016-05-16T09:17:44Z</td>\n",
       "      <td>2016-05-19T00:00:00Z</td>\n",
       "      <td>115</td>\n",
       "      <td>ANDORINHAS</td>\n",
       "      <td>0</td>\n",
       "      <td>0</td>\n",
       "      <td>0</td>\n",
       "      <td>0</td>\n",
       "      <td>1</td>\n",
       "      <td>0</td>\n",
       "      <td>Yes</td>\n",
       "    </tr>\n",
       "    <tr>\n",
       "      <th>2</th>\n",
       "      <td>3.196320e+13</td>\n",
       "      <td>5562812</td>\n",
       "      <td>F</td>\n",
       "      <td>2016-04-08T14:29:17Z</td>\n",
       "      <td>2016-05-16T00:00:00Z</td>\n",
       "      <td>115</td>\n",
       "      <td>ANDORINHAS</td>\n",
       "      <td>0</td>\n",
       "      <td>0</td>\n",
       "      <td>0</td>\n",
       "      <td>0</td>\n",
       "      <td>1</td>\n",
       "      <td>0</td>\n",
       "      <td>Yes</td>\n",
       "    </tr>\n",
       "    <tr>\n",
       "      <th>3</th>\n",
       "      <td>9.816960e+12</td>\n",
       "      <td>5768785</td>\n",
       "      <td>F</td>\n",
       "      <td>2016-06-03T08:01:28Z</td>\n",
       "      <td>2016-06-03T00:00:00Z</td>\n",
       "      <td>36</td>\n",
       "      <td>AEROPORTO</td>\n",
       "      <td>0</td>\n",
       "      <td>0</td>\n",
       "      <td>0</td>\n",
       "      <td>0</td>\n",
       "      <td>0</td>\n",
       "      <td>0</td>\n",
       "      <td>No</td>\n",
       "    </tr>\n",
       "    <tr>\n",
       "      <th>4</th>\n",
       "      <td>4.672740e+12</td>\n",
       "      <td>5668760</td>\n",
       "      <td>M</td>\n",
       "      <td>2016-05-06T09:41:40Z</td>\n",
       "      <td>2016-05-06T00:00:00Z</td>\n",
       "      <td>51</td>\n",
       "      <td>AEROPORTO</td>\n",
       "      <td>0</td>\n",
       "      <td>0</td>\n",
       "      <td>0</td>\n",
       "      <td>0</td>\n",
       "      <td>0</td>\n",
       "      <td>0</td>\n",
       "      <td>No</td>\n",
       "    </tr>\n",
       "  </tbody>\n",
       "</table>\n",
       "</div>"
      ],
      "text/plain": [
       "      PatientId  AppointmentID Gender          ScheduledDay  \\\n",
       "0  3.196320e+13        5700278      F  2016-05-16T09:17:44Z   \n",
       "1  3.196320e+13        5700279      F  2016-05-16T09:17:44Z   \n",
       "2  3.196320e+13        5562812      F  2016-04-08T14:29:17Z   \n",
       "3  9.816960e+12        5768785      F  2016-06-03T08:01:28Z   \n",
       "4  4.672740e+12        5668760      M  2016-05-06T09:41:40Z   \n",
       "\n",
       "         AppointmentDay  Age Neighbourhood  Scholarship  Hipertension  \\\n",
       "0  2016-05-19T00:00:00Z  115    ANDORINHAS            0             0   \n",
       "1  2016-05-19T00:00:00Z  115    ANDORINHAS            0             0   \n",
       "2  2016-05-16T00:00:00Z  115    ANDORINHAS            0             0   \n",
       "3  2016-06-03T00:00:00Z   36     AEROPORTO            0             0   \n",
       "4  2016-05-06T00:00:00Z   51     AEROPORTO            0             0   \n",
       "\n",
       "   Diabetes  Alcoholism  Handcap  SMS_received No-show  \n",
       "0         0           0        1             0     Yes  \n",
       "1         0           0        1             0     Yes  \n",
       "2         0           0        1             0     Yes  \n",
       "3         0           0        0             0      No  \n",
       "4         0           0        0             0      No  "
      ]
     },
     "execution_count": 2,
     "metadata": {},
     "output_type": "execute_result"
    }
   ],
   "source": [
    "# Loading the data and printing off the first 5 lines. \n",
    "df = pd.read_csv('No_Show_Appt.csv')\n",
    "df.head()"
   ]
  },
  {
   "cell_type": "code",
   "execution_count": 3,
   "metadata": {},
   "outputs": [
    {
     "data": {
      "text/plain": [
       "(110527, 14)"
      ]
     },
     "execution_count": 3,
     "metadata": {},
     "output_type": "execute_result"
    }
   ],
   "source": [
    "df.shape"
   ]
  },
  {
   "cell_type": "markdown",
   "metadata": {},
   "source": [
    "<p>There are a total of 110527 entries (as mentioned in my description) and 14 columns.</p>"
   ]
  },
  {
   "cell_type": "code",
   "execution_count": 4,
   "metadata": {},
   "outputs": [
    {
     "name": "stdout",
     "output_type": "stream",
     "text": [
      "<class 'pandas.core.frame.DataFrame'>\n",
      "RangeIndex: 110527 entries, 0 to 110526\n",
      "Data columns (total 14 columns):\n",
      "PatientId         110527 non-null float64\n",
      "AppointmentID     110527 non-null int64\n",
      "Gender            110527 non-null object\n",
      "ScheduledDay      110527 non-null object\n",
      "AppointmentDay    110527 non-null object\n",
      "Age               110527 non-null int64\n",
      "Neighbourhood     110527 non-null object\n",
      "Scholarship       110527 non-null int64\n",
      "Hipertension      110527 non-null int64\n",
      "Diabetes          110527 non-null int64\n",
      "Alcoholism        110527 non-null int64\n",
      "Handcap           110527 non-null int64\n",
      "SMS_received      110527 non-null int64\n",
      "No-show           110527 non-null object\n",
      "dtypes: float64(1), int64(8), object(5)\n",
      "memory usage: 11.8+ MB\n"
     ]
    }
   ],
   "source": [
    "#Inspecting data types and looking for instances of missing or possibly errant data.\n",
    "df.info()"
   ]
  },
  {
   "cell_type": "code",
   "execution_count": 5,
   "metadata": {},
   "outputs": [
    {
     "name": "stdout",
     "output_type": "stream",
     "text": [
      "0 PatientId\n",
      "1 AppointmentID\n",
      "2 Gender\n",
      "3 ScheduledDay\n",
      "4 AppointmentDay\n",
      "5 Age\n",
      "6 Neighbourhood\n",
      "7 Scholarship\n",
      "8 Hipertension\n",
      "9 Diabetes\n",
      "10 Alcoholism\n",
      "11 Handcap\n",
      "12 SMS_received\n",
      "13 No-show\n"
     ]
    }
   ],
   "source": [
    "#List of the columns I am working with\n",
    "for i, v in enumerate(df.columns):\n",
    "    print(i, v)"
   ]
  },
  {
   "cell_type": "markdown",
   "metadata": {},
   "source": [
    "<p>What luck! There are no missing values in my dataset. At this time, I wil keep all columns of data to use in my analysis.</p>"
   ]
  },
  {
   "cell_type": "code",
   "execution_count": 6,
   "metadata": {},
   "outputs": [
    {
     "data": {
      "text/html": [
       "<div>\n",
       "<style scoped>\n",
       "    .dataframe tbody tr th:only-of-type {\n",
       "        vertical-align: middle;\n",
       "    }\n",
       "\n",
       "    .dataframe tbody tr th {\n",
       "        vertical-align: top;\n",
       "    }\n",
       "\n",
       "    .dataframe thead th {\n",
       "        text-align: right;\n",
       "    }\n",
       "</style>\n",
       "<table border=\"1\" class=\"dataframe\">\n",
       "  <thead>\n",
       "    <tr style=\"text-align: right;\">\n",
       "      <th></th>\n",
       "      <th>PatientId</th>\n",
       "      <th>AppointmentID</th>\n",
       "      <th>Age</th>\n",
       "      <th>Scholarship</th>\n",
       "      <th>Hipertension</th>\n",
       "      <th>Diabetes</th>\n",
       "      <th>Alcoholism</th>\n",
       "      <th>Handcap</th>\n",
       "      <th>SMS_received</th>\n",
       "    </tr>\n",
       "  </thead>\n",
       "  <tbody>\n",
       "    <tr>\n",
       "      <th>count</th>\n",
       "      <td>1.105270e+05</td>\n",
       "      <td>1.105270e+05</td>\n",
       "      <td>110527.000000</td>\n",
       "      <td>110527.000000</td>\n",
       "      <td>110527.000000</td>\n",
       "      <td>110527.000000</td>\n",
       "      <td>110527.000000</td>\n",
       "      <td>110527.000000</td>\n",
       "      <td>110527.000000</td>\n",
       "    </tr>\n",
       "    <tr>\n",
       "      <th>mean</th>\n",
       "      <td>1.474963e+14</td>\n",
       "      <td>5.675305e+06</td>\n",
       "      <td>37.088874</td>\n",
       "      <td>0.098266</td>\n",
       "      <td>0.197246</td>\n",
       "      <td>0.071865</td>\n",
       "      <td>0.030400</td>\n",
       "      <td>0.022248</td>\n",
       "      <td>0.321026</td>\n",
       "    </tr>\n",
       "    <tr>\n",
       "      <th>std</th>\n",
       "      <td>2.560949e+14</td>\n",
       "      <td>7.129575e+04</td>\n",
       "      <td>23.110205</td>\n",
       "      <td>0.297675</td>\n",
       "      <td>0.397921</td>\n",
       "      <td>0.258265</td>\n",
       "      <td>0.171686</td>\n",
       "      <td>0.161543</td>\n",
       "      <td>0.466873</td>\n",
       "    </tr>\n",
       "    <tr>\n",
       "      <th>min</th>\n",
       "      <td>3.920000e+04</td>\n",
       "      <td>5.030230e+06</td>\n",
       "      <td>-1.000000</td>\n",
       "      <td>0.000000</td>\n",
       "      <td>0.000000</td>\n",
       "      <td>0.000000</td>\n",
       "      <td>0.000000</td>\n",
       "      <td>0.000000</td>\n",
       "      <td>0.000000</td>\n",
       "    </tr>\n",
       "    <tr>\n",
       "      <th>25%</th>\n",
       "      <td>4.172615e+12</td>\n",
       "      <td>5.640286e+06</td>\n",
       "      <td>18.000000</td>\n",
       "      <td>0.000000</td>\n",
       "      <td>0.000000</td>\n",
       "      <td>0.000000</td>\n",
       "      <td>0.000000</td>\n",
       "      <td>0.000000</td>\n",
       "      <td>0.000000</td>\n",
       "    </tr>\n",
       "    <tr>\n",
       "      <th>50%</th>\n",
       "      <td>3.173180e+13</td>\n",
       "      <td>5.680573e+06</td>\n",
       "      <td>37.000000</td>\n",
       "      <td>0.000000</td>\n",
       "      <td>0.000000</td>\n",
       "      <td>0.000000</td>\n",
       "      <td>0.000000</td>\n",
       "      <td>0.000000</td>\n",
       "      <td>0.000000</td>\n",
       "    </tr>\n",
       "    <tr>\n",
       "      <th>75%</th>\n",
       "      <td>9.439170e+13</td>\n",
       "      <td>5.725524e+06</td>\n",
       "      <td>55.000000</td>\n",
       "      <td>0.000000</td>\n",
       "      <td>0.000000</td>\n",
       "      <td>0.000000</td>\n",
       "      <td>0.000000</td>\n",
       "      <td>0.000000</td>\n",
       "      <td>1.000000</td>\n",
       "    </tr>\n",
       "    <tr>\n",
       "      <th>max</th>\n",
       "      <td>9.999820e+14</td>\n",
       "      <td>5.790484e+06</td>\n",
       "      <td>115.000000</td>\n",
       "      <td>1.000000</td>\n",
       "      <td>1.000000</td>\n",
       "      <td>1.000000</td>\n",
       "      <td>1.000000</td>\n",
       "      <td>4.000000</td>\n",
       "      <td>1.000000</td>\n",
       "    </tr>\n",
       "  </tbody>\n",
       "</table>\n",
       "</div>"
      ],
      "text/plain": [
       "          PatientId  AppointmentID            Age    Scholarship  \\\n",
       "count  1.105270e+05   1.105270e+05  110527.000000  110527.000000   \n",
       "mean   1.474963e+14   5.675305e+06      37.088874       0.098266   \n",
       "std    2.560949e+14   7.129575e+04      23.110205       0.297675   \n",
       "min    3.920000e+04   5.030230e+06      -1.000000       0.000000   \n",
       "25%    4.172615e+12   5.640286e+06      18.000000       0.000000   \n",
       "50%    3.173180e+13   5.680573e+06      37.000000       0.000000   \n",
       "75%    9.439170e+13   5.725524e+06      55.000000       0.000000   \n",
       "max    9.999820e+14   5.790484e+06     115.000000       1.000000   \n",
       "\n",
       "        Hipertension       Diabetes     Alcoholism        Handcap  \\\n",
       "count  110527.000000  110527.000000  110527.000000  110527.000000   \n",
       "mean        0.197246       0.071865       0.030400       0.022248   \n",
       "std         0.397921       0.258265       0.171686       0.161543   \n",
       "min         0.000000       0.000000       0.000000       0.000000   \n",
       "25%         0.000000       0.000000       0.000000       0.000000   \n",
       "50%         0.000000       0.000000       0.000000       0.000000   \n",
       "75%         0.000000       0.000000       0.000000       0.000000   \n",
       "max         1.000000       1.000000       1.000000       4.000000   \n",
       "\n",
       "        SMS_received  \n",
       "count  110527.000000  \n",
       "mean        0.321026  \n",
       "std         0.466873  \n",
       "min         0.000000  \n",
       "25%         0.000000  \n",
       "50%         0.000000  \n",
       "75%         1.000000  \n",
       "max         1.000000  "
      ]
     },
     "execution_count": 6,
     "metadata": {},
     "output_type": "execute_result"
    }
   ],
   "source": [
    "df.describe()"
   ]
  },
  {
   "cell_type": "markdown",
   "metadata": {},
   "source": [
    "<p>When I was writing out my description I did a deep dive into the data from a high-level perspective. Now that I ran the describe() function on the dataframe I can take a closer look at statistical trends. For instance, the mean age is 37 years, but the rate of alcoholism is pretty low at 3%. "
   ]
  },
  {
   "cell_type": "markdown",
   "metadata": {},
   "source": [
    "<p>For curiousity sake, let's quickly look at the Alcoholism column:</p>"
   ]
  },
  {
   "cell_type": "code",
   "execution_count": 7,
   "metadata": {},
   "outputs": [
    {
     "data": {
      "text/plain": [
       "0    107167\n",
       "1      3360\n",
       "Name: Alcoholism, dtype: int64"
      ]
     },
     "execution_count": 7,
     "metadata": {},
     "output_type": "execute_result"
    }
   ],
   "source": [
    "df.Alcoholism.value_counts()"
   ]
  },
  {
   "cell_type": "code",
   "execution_count": 8,
   "metadata": {},
   "outputs": [
    {
     "data": {
      "text/plain": [
       "3.135293513861543"
      ]
     },
     "execution_count": 8,
     "metadata": {},
     "output_type": "execute_result"
    }
   ],
   "source": [
    "# Basic math in Python which is easier than opening up my calculator\n",
    "(3360 / 107167) * 100"
   ]
  },
  {
   "cell_type": "markdown",
   "metadata": {},
   "source": [
    "<p>So only a small percentage of patients consider themselves alcoholics. I will come back to this in the Exploratory Data Analysis section.</p>"
   ]
  },
  {
   "cell_type": "markdown",
   "metadata": {},
   "source": [
    "------------------------"
   ]
  },
  {
   "cell_type": "markdown",
   "metadata": {},
   "source": [
    "### Clean"
   ]
  },
  {
   "cell_type": "markdown",
   "metadata": {},
   "source": [
    "<p>Now that we understand the structure of the dataset there is just some minor cleaning to do</p>"
   ]
  },
  {
   "cell_type": "code",
   "execution_count": 9,
   "metadata": {},
   "outputs": [
    {
     "data": {
      "text/plain": [
       "PatientId         0\n",
       "AppointmentID     0\n",
       "Gender            0\n",
       "ScheduledDay      0\n",
       "AppointmentDay    0\n",
       "Age               0\n",
       "Neighbourhood     0\n",
       "Scholarship       0\n",
       "Hipertension      0\n",
       "Diabetes          0\n",
       "Alcoholism        0\n",
       "Handcap           0\n",
       "SMS_received      0\n",
       "No-show           0\n",
       "dtype: int64"
      ]
     },
     "execution_count": 9,
     "metadata": {},
     "output_type": "execute_result"
    }
   ],
   "source": [
    "#Checking for null values\n",
    "df.isnull().sum()"
   ]
  },
  {
   "cell_type": "code",
   "execution_count": 10,
   "metadata": {},
   "outputs": [
    {
     "data": {
      "text/plain": [
       "0"
      ]
     },
     "execution_count": 10,
     "metadata": {},
     "output_type": "execute_result"
    }
   ],
   "source": [
    "#Checking for duplicates..\n",
    "df.duplicated().sum()"
   ]
  },
  {
   "cell_type": "markdown",
   "metadata": {},
   "source": [
    "<p>Since there are no duplicates, I will drop the PatientId column, and work with the AppointmentID column instead.</p>"
   ]
  },
  {
   "cell_type": "code",
   "execution_count": 11,
   "metadata": {},
   "outputs": [
    {
     "data": {
      "text/html": [
       "<div>\n",
       "<style scoped>\n",
       "    .dataframe tbody tr th:only-of-type {\n",
       "        vertical-align: middle;\n",
       "    }\n",
       "\n",
       "    .dataframe tbody tr th {\n",
       "        vertical-align: top;\n",
       "    }\n",
       "\n",
       "    .dataframe thead th {\n",
       "        text-align: right;\n",
       "    }\n",
       "</style>\n",
       "<table border=\"1\" class=\"dataframe\">\n",
       "  <thead>\n",
       "    <tr style=\"text-align: right;\">\n",
       "      <th></th>\n",
       "      <th>AppointmentID</th>\n",
       "      <th>Gender</th>\n",
       "      <th>ScheduledDay</th>\n",
       "      <th>AppointmentDay</th>\n",
       "      <th>Age</th>\n",
       "      <th>Neighbourhood</th>\n",
       "      <th>Scholarship</th>\n",
       "      <th>Hipertension</th>\n",
       "      <th>Diabetes</th>\n",
       "      <th>Alcoholism</th>\n",
       "      <th>Handcap</th>\n",
       "      <th>SMS_received</th>\n",
       "      <th>No-show</th>\n",
       "    </tr>\n",
       "  </thead>\n",
       "  <tbody>\n",
       "    <tr>\n",
       "      <th>0</th>\n",
       "      <td>5700278</td>\n",
       "      <td>F</td>\n",
       "      <td>2016-05-16T09:17:44Z</td>\n",
       "      <td>2016-05-19T00:00:00Z</td>\n",
       "      <td>115</td>\n",
       "      <td>ANDORINHAS</td>\n",
       "      <td>0</td>\n",
       "      <td>0</td>\n",
       "      <td>0</td>\n",
       "      <td>0</td>\n",
       "      <td>1</td>\n",
       "      <td>0</td>\n",
       "      <td>Yes</td>\n",
       "    </tr>\n",
       "    <tr>\n",
       "      <th>1</th>\n",
       "      <td>5700279</td>\n",
       "      <td>F</td>\n",
       "      <td>2016-05-16T09:17:44Z</td>\n",
       "      <td>2016-05-19T00:00:00Z</td>\n",
       "      <td>115</td>\n",
       "      <td>ANDORINHAS</td>\n",
       "      <td>0</td>\n",
       "      <td>0</td>\n",
       "      <td>0</td>\n",
       "      <td>0</td>\n",
       "      <td>1</td>\n",
       "      <td>0</td>\n",
       "      <td>Yes</td>\n",
       "    </tr>\n",
       "    <tr>\n",
       "      <th>2</th>\n",
       "      <td>5562812</td>\n",
       "      <td>F</td>\n",
       "      <td>2016-04-08T14:29:17Z</td>\n",
       "      <td>2016-05-16T00:00:00Z</td>\n",
       "      <td>115</td>\n",
       "      <td>ANDORINHAS</td>\n",
       "      <td>0</td>\n",
       "      <td>0</td>\n",
       "      <td>0</td>\n",
       "      <td>0</td>\n",
       "      <td>1</td>\n",
       "      <td>0</td>\n",
       "      <td>Yes</td>\n",
       "    </tr>\n",
       "    <tr>\n",
       "      <th>3</th>\n",
       "      <td>5768785</td>\n",
       "      <td>F</td>\n",
       "      <td>2016-06-03T08:01:28Z</td>\n",
       "      <td>2016-06-03T00:00:00Z</td>\n",
       "      <td>36</td>\n",
       "      <td>AEROPORTO</td>\n",
       "      <td>0</td>\n",
       "      <td>0</td>\n",
       "      <td>0</td>\n",
       "      <td>0</td>\n",
       "      <td>0</td>\n",
       "      <td>0</td>\n",
       "      <td>No</td>\n",
       "    </tr>\n",
       "    <tr>\n",
       "      <th>4</th>\n",
       "      <td>5668760</td>\n",
       "      <td>M</td>\n",
       "      <td>2016-05-06T09:41:40Z</td>\n",
       "      <td>2016-05-06T00:00:00Z</td>\n",
       "      <td>51</td>\n",
       "      <td>AEROPORTO</td>\n",
       "      <td>0</td>\n",
       "      <td>0</td>\n",
       "      <td>0</td>\n",
       "      <td>0</td>\n",
       "      <td>0</td>\n",
       "      <td>0</td>\n",
       "      <td>No</td>\n",
       "    </tr>\n",
       "  </tbody>\n",
       "</table>\n",
       "</div>"
      ],
      "text/plain": [
       "   AppointmentID Gender          ScheduledDay        AppointmentDay  Age  \\\n",
       "0        5700278      F  2016-05-16T09:17:44Z  2016-05-19T00:00:00Z  115   \n",
       "1        5700279      F  2016-05-16T09:17:44Z  2016-05-19T00:00:00Z  115   \n",
       "2        5562812      F  2016-04-08T14:29:17Z  2016-05-16T00:00:00Z  115   \n",
       "3        5768785      F  2016-06-03T08:01:28Z  2016-06-03T00:00:00Z   36   \n",
       "4        5668760      M  2016-05-06T09:41:40Z  2016-05-06T00:00:00Z   51   \n",
       "\n",
       "  Neighbourhood  Scholarship  Hipertension  Diabetes  Alcoholism  Handcap  \\\n",
       "0    ANDORINHAS            0             0         0           0        1   \n",
       "1    ANDORINHAS            0             0         0           0        1   \n",
       "2    ANDORINHAS            0             0         0           0        1   \n",
       "3     AEROPORTO            0             0         0           0        0   \n",
       "4     AEROPORTO            0             0         0           0        0   \n",
       "\n",
       "   SMS_received No-show  \n",
       "0             0     Yes  \n",
       "1             0     Yes  \n",
       "2             0     Yes  \n",
       "3             0      No  \n",
       "4             0      No  "
      ]
     },
     "execution_count": 11,
     "metadata": {},
     "output_type": "execute_result"
    }
   ],
   "source": [
    "df.drop('PatientId', axis=1, inplace=True)\n",
    "df.head()"
   ]
  },
  {
   "cell_type": "code",
   "execution_count": 12,
   "metadata": {},
   "outputs": [],
   "source": [
    "#Saving file with dropped column as new version\n",
    "df.to_csv('No_Show_Appt_v1.csv', index=False)"
   ]
  },
  {
   "cell_type": "code",
   "execution_count": 13,
   "metadata": {},
   "outputs": [],
   "source": [
    "#Cleaning up column headers\n",
    "df.rename(columns= {'Neighbourhood': 'Neighborhood','Hipertension': 'Hypertension', 'Handcap': 'Handicap', 'No-show': 'No_show'}, inplace=True)\n",
    "\n",
    "# See if it worked: \n",
    "#df.head()\n",
    "# It worked!"
   ]
  },
  {
   "cell_type": "code",
   "execution_count": 14,
   "metadata": {},
   "outputs": [
    {
     "data": {
      "text/plain": [
       "array([115,  36,  51,  58,  59,  62,  64,   0,  98,  97,  96,  95,   1,\n",
       "        94,   2,  93,   3,  92,   4,   5,   6,   7,  91,   8,   9,  10,\n",
       "        90,  11,  12,  13,  89,  14,  15,  16,  17,  18,  19,  20,  88,\n",
       "        21,  22,  23,  24,  87,  25,  26,  27,  28,  29,  30,  31,  86,\n",
       "        32,  33,  34,  35,  37,  38,  39,  85,  40,  41,  42,  43,  44,\n",
       "        45,  46,  47,  48,  49,  84,  50,  52,  53,  54,  55,  56,  57,\n",
       "        60,  61,  83,  63,  65,  66,  67,  68,  69,  70,  71,  72,  73,\n",
       "        74,  75,  76,  77,  78,  82,  79,  80,  81, 100, 102,  -1,  99],\n",
       "      dtype=int64)"
      ]
     },
     "execution_count": 14,
     "metadata": {},
     "output_type": "execute_result"
    }
   ],
   "source": [
    "#Cleaning up Age column - I saw a negative value in my initial observations\n",
    "df.Age.unique()"
   ]
  },
  {
   "cell_type": "code",
   "execution_count": 15,
   "metadata": {},
   "outputs": [
    {
     "data": {
      "text/plain": [
       "(110526, 13)"
      ]
     },
     "execution_count": 15,
     "metadata": {},
     "output_type": "execute_result"
    }
   ],
   "source": [
    "#Clean up Age column - remove anything that is -1\n",
    "df = df.drop(df.index[df.Age == -1])\n",
    "df.shape"
   ]
  },
  {
   "cell_type": "code",
   "execution_count": 16,
   "metadata": {},
   "outputs": [],
   "source": [
    "#Cleaning up DTG columns - set both to datetime (from object)\n",
    "df['ScheduledDay'] = pd.to_datetime(df['ScheduledDay']).dt.date\n",
    "df['AppointmentDay'] = pd.to_datetime(df['AppointmentDay']).dt.date\n",
    "\n",
    "#See if that worked\n",
    "#df.info()\n",
    "#It did!"
   ]
  },
  {
   "cell_type": "code",
   "execution_count": 17,
   "metadata": {},
   "outputs": [
    {
     "data": {
      "text/plain": [
       "count    110526.000000\n",
       "mean         10.183794\n",
       "std          15.255034\n",
       "min          -6.000000\n",
       "25%           0.000000\n",
       "50%           4.000000\n",
       "75%          15.000000\n",
       "max         179.000000\n",
       "Name: Appt_wait, dtype: float64"
      ]
     },
     "execution_count": 17,
     "metadata": {},
     "output_type": "execute_result"
    }
   ],
   "source": [
    "#Add a new column for days between a patient's scheduled appointment and actual appointment\n",
    "df['Appt_wait'] = df['AppointmentDay'] - df['ScheduledDay']\n",
    "df['Appt_wait'] = df['Appt_wait'].dt.days\n",
    "\n",
    "#Checking to see the data in the new column\n",
    "#df.Appt_wait.head(20)\n",
    "#df.Appt_wait.tail(15)\n",
    "#df.Appt_wait.head(40-50)\n",
    "df.Appt_wait.describe()"
   ]
  },
  {
   "cell_type": "markdown",
   "metadata": {},
   "source": [
    "<p>The average wait time between scheduling an appointment and the appointment date is 10 days. I see there is some additional cleaning that needs to be done though - there is a minimum wait time of -6 which doesn't make sense, and a maximum wait time of 179 days which I will leave for now.</p>"
   ]
  },
  {
   "cell_type": "code",
   "execution_count": 18,
   "metadata": {},
   "outputs": [
    {
     "data": {
      "text/plain": [
       "count    110521.000000\n",
       "mean         10.184345\n",
       "std          15.255153\n",
       "min           0.000000\n",
       "25%           0.000000\n",
       "50%           4.000000\n",
       "75%          15.000000\n",
       "max         179.000000\n",
       "Name: Appt_wait, dtype: float64"
      ]
     },
     "execution_count": 18,
     "metadata": {},
     "output_type": "execute_result"
    }
   ],
   "source": [
    "#Getting rid of the negative values\n",
    "appt_neg = df[df['Appt_wait'] < 0]\n",
    "df.drop(appt_neg.index, axis=0, inplace=True)\n",
    "df.Appt_wait.describe()"
   ]
  },
  {
   "cell_type": "markdown",
   "metadata": {},
   "source": [
    "<p>Appointment wait time minimum is now 0, and the maximum wait time is 179 days. This removes 5 rows of data.</p>"
   ]
  },
  {
   "cell_type": "code",
   "execution_count": 19,
   "metadata": {},
   "outputs": [],
   "source": [
    "#Saving file with edits as new version\n",
    "df.to_csv('No_Show_Appt_v2.csv', index=False)"
   ]
  },
  {
   "cell_type": "markdown",
   "metadata": {},
   "source": [
    "<p>Alright, I've cleaned up the column headers, the age column, the datetime columns, and the No_show column.I think everything we need to be a numerical value (for plotting purposes) is good. I can always return to the Cleaning step if I need during the EDA process.</p>"
   ]
  },
  {
   "cell_type": "markdown",
   "metadata": {},
   "source": [
    "--------------------"
   ]
  },
  {
   "cell_type": "markdown",
   "metadata": {},
   "source": [
    "<a id='eda'></a>\n",
    "## Exploratory Data Analysis\n",
    "\n",
    "<p>I've trimmed and cleaned my data, now it's time to explore it!</p>\n",
    "<p> I plan on exploring the following factors for appointment attendance further (left to right in the csv file): </p>\n",
    "<ul>\n",
    "    <li>Total No Show Percentage</li>\n",
    "    <li>Gender</li>\n",
    "    <li>Appointment Wait Time</li>\n",
    "    <li>Age</li>\n",
    "    <li>Medical Conditions</li>\n",
    "    <li>Technology Usage</li>\n",
    "</ul>"
   ]
  },
  {
   "cell_type": "markdown",
   "metadata": {},
   "source": [
    "-------------------------------"
   ]
  },
  {
   "cell_type": "markdown",
   "metadata": {},
   "source": [
    "#### Total No Show Percentage"
   ]
  },
  {
   "cell_type": "markdown",
   "metadata": {},
   "source": [
    "<p>I interpreted the 'Yes' in the No_show column to mean a patient was indeed a no show for their appointment. I interpreted the 'No' to mean the patient did attend their appointment.</p>"
   ]
  },
  {
   "cell_type": "code",
   "execution_count": 46,
   "metadata": {},
   "outputs": [
    {
     "data": {
      "text/plain": [
       "count     110521\n",
       "unique         2\n",
       "top           No\n",
       "freq       88207\n",
       "Name: No_show, dtype: object"
      ]
     },
     "execution_count": 46,
     "metadata": {},
     "output_type": "execute_result"
    }
   ],
   "source": [
    "df.No_show.describe()"
   ]
  },
  {
   "cell_type": "code",
   "execution_count": 47,
   "metadata": {},
   "outputs": [
    {
     "data": {
      "text/plain": [
       "No     88207\n",
       "Yes    22314\n",
       "Name: No_show, dtype: int64"
      ]
     },
     "execution_count": 47,
     "metadata": {},
     "output_type": "execute_result"
    }
   ],
   "source": [
    "No_Bar = df.No_show.value_counts()\n",
    "No_Bar"
   ]
  },
  {
   "cell_type": "code",
   "execution_count": 48,
   "metadata": {},
   "outputs": [
    {
     "data": {
      "image/png": "[encoded data removed]",
      "text/plain": [
       "<Figure size 432x288 with 1 Axes>"
      ]
     },
     "metadata": {
      "needs_background": "dark"
     },
     "output_type": "display_data"
    }
   ],
   "source": [
    "No_Bar.plot(kind='bar');"
   ]
  },
  {
   "cell_type": "code",
   "execution_count": 49,
   "metadata": {},
   "outputs": [
    {
     "data": {
      "text/plain": [
       "No     79.810172\n",
       "Yes    20.189828\n",
       "Name: No_show, dtype: float64"
      ]
     },
     "execution_count": 49,
     "metadata": {},
     "output_type": "execute_result"
    }
   ],
   "source": [
    "No_Percent = df.No_show.value_counts('No_show')*100\n",
    "No_Percent"
   ]
  },
  {
   "cell_type": "code",
   "execution_count": 89,
   "metadata": {},
   "outputs": [
    {
     "data": {
      "image/png": "[encoded data removed]",
      "text/plain": [
       "<Figure size 432x288 with 1 Axes>"
      ]
     },
     "metadata": {},
     "output_type": "display_data"
    }
   ],
   "source": [
    "#No_Percent.plot(kind='pie');\n",
    "no_show_percent = df.No_show.value_counts()\n",
    "labels = ['Attended', 'No Show']\n",
    "explode = (0.2, 0)\n",
    "\n",
    "plt.pie(no_show_percent, labels = labels, explode = explode, autopct= '%1.1f%%', counterclock=True, textprops={'color':'black'});\n",
    "plt.title('Appointment Attendance');"
   ]
  },
  {
   "cell_type": "markdown",
   "metadata": {},
   "source": [
    "<p>Total attended appointments is far greater than the number of appointments that patients did not show up for. The first implication is the overall concern that patients aren't attending the appointments they are scheduing. The second implication is the underlying reasons for not attending an appointment must be important enough for patients to priortize those things, rather than the reason for scheduling an appointment. Lastly this implies changes need to be made to the scheduling system to change the number of appointments attended. This data set did not include monetary, time, or personnel data that reflects this no show data, but it is important to note that there could be significant savings in monetary, time, and personnel resources if patients either attended their appointments as scheduled, or only scheduled appointments they were likely to attend.</p>"
   ]
  },
  {
   "cell_type": "markdown",
   "metadata": {},
   "source": [
    "#### Gender"
   ]
  },
  {
   "cell_type": "code",
   "execution_count": 20,
   "metadata": {},
   "outputs": [
    {
     "data": {
      "text/plain": [
       "count     110521\n",
       "unique         2\n",
       "top            F\n",
       "freq       71836\n",
       "Name: Gender, dtype: object"
      ]
     },
     "execution_count": 20,
     "metadata": {},
     "output_type": "execute_result"
    }
   ],
   "source": [
    "#Get some initial description on the gender column\n",
    "df.Gender.describe()"
   ]
  },
  {
   "cell_type": "code",
   "execution_count": 21,
   "metadata": {},
   "outputs": [
    {
     "data": {
      "text/plain": [
       "F    71836\n",
       "M    38685\n",
       "Name: Gender, dtype: int64"
      ]
     },
     "execution_count": 21,
     "metadata": {},
     "output_type": "execute_result"
    }
   ],
   "source": [
    "df.Gender.value_counts()"
   ]
  },
  {
   "cell_type": "code",
   "execution_count": 22,
   "metadata": {},
   "outputs": [
    {
     "data": {
      "text/plain": [
       "33152"
      ]
     },
     "execution_count": 22,
     "metadata": {},
     "output_type": "execute_result"
    }
   ],
   "source": [
    "71839 - 38687"
   ]
  },
  {
   "cell_type": "code",
   "execution_count": 23,
   "metadata": {},
   "outputs": [
    {
     "data": {
      "image/png": "[encoded data removed]",
      "text/plain": [
       "<Figure size 432x288 with 1 Axes>"
      ]
     },
     "metadata": {
      "needs_background": "dark"
     },
     "output_type": "display_data"
    }
   ],
   "source": [
    "#Setting the numerical value to a variable so I can graph Female vs. Male counts\n",
    "df_Gender = df.Gender.value_counts()\n",
    "df_Gender.plot(kind='bar', title='Female vs. Male Appointments');"
   ]
  },
  {
   "cell_type": "markdown",
   "metadata": {},
   "source": [
    "<p>There is a significantly larger portion of females who had an appointment: females represent 65% of total appointments in this data set, totalling 33,152 more female patients than male patients.</p>"
   ]
  },
  {
   "cell_type": "markdown",
   "metadata": {},
   "source": [
    "#### Gender and Appointment Attendance "
   ]
  },
  {
   "cell_type": "code",
   "execution_count": 24,
   "metadata": {},
   "outputs": [
    {
     "data": {
      "image/png": "[encoded data removed]",
      "text/plain": [
       "<Figure size 432x288 with 1 Axes>"
      ]
     },
     "metadata": {
      "needs_background": "dark"
     },
     "output_type": "display_data"
    }
   ],
   "source": [
    "Gender_No_Show = sns.countplot(x = df.Gender, hue = df.No_show);\n",
    "Gender_No_Show.set_title('Appointment Attendance by Gender');"
   ]
  },
  {
   "cell_type": "markdown",
   "metadata": {},
   "source": [
    "<p>As shown by the count plot histogram, the 65% of total appointments scheduled by females also (quite significantly) showed up for their appointments. Out of the patients who did not attend their appointment, females were more likely than males to be a no show.</p>"
   ]
  },
  {
   "cell_type": "markdown",
   "metadata": {},
   "source": [
    "--------------------------------------------------------------------------------------------------------------------------------------------------------------------------------"
   ]
  },
  {
   "cell_type": "markdown",
   "metadata": {},
   "source": [
    "#### Appointment Wait Time"
   ]
  },
  {
   "cell_type": "code",
   "execution_count": 25,
   "metadata": {},
   "outputs": [
    {
     "data": {
      "text/plain": [
       "count    110521.000000\n",
       "mean         10.184345\n",
       "std          15.255153\n",
       "min           0.000000\n",
       "25%           0.000000\n",
       "50%           4.000000\n",
       "75%          15.000000\n",
       "max         179.000000\n",
       "Name: Appt_wait, dtype: float64"
      ]
     },
     "execution_count": 25,
     "metadata": {},
     "output_type": "execute_result"
    }
   ],
   "source": [
    "df.Appt_wait.describe()"
   ]
  },
  {
   "cell_type": "code",
   "execution_count": 65,
   "metadata": {},
   "outputs": [
    {
     "data": {
      "text/plain": [
       "Same Day Appt        38562\n",
       "1-7 days             32185\n",
       "15-30 days           17371\n",
       "8-14 days            12025\n",
       "31-60 days            8283\n",
       "More than 60 days     2095\n",
       "Name: Wait_Description, dtype: int64"
      ]
     },
     "execution_count": 65,
     "metadata": {},
     "output_type": "execute_result"
    }
   ],
   "source": [
    "#Use bins and labels to get a count within each wait time range\n",
    "bins = [0, 1, 8, 15, 31, 61, 200]\n",
    "labels = ['Same Day Appt', '1-7 days', '8-14 days', '15-30 days', '31-60 days', 'More than 60 days']\n",
    "Describe_Wait = pd.cut(df.Appt_wait, bins, right=False, labels=labels)\n",
    "df['Wait_Description'] = Describe_Wait\n",
    "df.Wait_Description.value_counts()"
   ]
  },
  {
   "cell_type": "code",
   "execution_count": 67,
   "metadata": {},
   "outputs": [],
   "source": [
    "Wait = df['Wait_Description'].value_counts()"
   ]
  },
  {
   "cell_type": "code",
   "execution_count": 71,
   "metadata": {},
   "outputs": [
    {
     "data": {
      "image/png": "[encoded data removed]",
      "text/plain": [
       "<Figure size 432x288 with 1 Axes>"
      ]
     },
     "metadata": {},
     "output_type": "display_data"
    }
   ],
   "source": [
    "#We can plot this in a more understandable way - I am choosing to visualize appointment times with a pie chart\n",
    "times = Wait\n",
    "labels = ['Same Day Appt', '1-7 days', '8-14 days', '15-30 days', '31-60 days', 'More than 60 days']\n",
    "explode = (0.2, 0, 0, 0, 0, 0)\n",
    "\n",
    "plt.pie(times, \n",
    "        explode = explode, \n",
    "        startangle=90, \n",
    "        radius = 2.5, \n",
    "        autopct='%1.1f%%', \n",
    "        counterclock = False, \n",
    "        shadow = True,\n",
    "        textprops={'size': '15', 'color': 'black'})\n",
    "#plt.title('Wait Times for Appointments')\n",
    "plt.figtext(0.25, 1.35, 'Wait Times for Appointments', fontsize=20, color='black')\n",
    "plt.legend(labels, loc = 'lower right')\n",
    "plt.show()"
   ]
  },
  {
   "cell_type": "markdown",
   "metadata": {},
   "source": [
    "<p>This pie chart reveals that over half of appointments were scheduled on the same day, or within 1-7 days. The other half vary between 8-14 days, 15-30 days, and 31-60 days, with a small portion of appointments scheduled out greater than 60 days.</p>"
   ]
  },
  {
   "cell_type": "markdown",
   "metadata": {},
   "source": [
    "#### Appointment Wait Time and Attendance"
   ]
  },
  {
   "cell_type": "code",
   "execution_count": 28,
   "metadata": {},
   "outputs": [
    {
     "data": {
      "image/png": "[encoded data removed]",
      "text/plain": [
       "<Figure size 432x288 with 1 Axes>"
      ]
     },
     "metadata": {
      "needs_background": "dark"
     },
     "output_type": "display_data"
    }
   ],
   "source": [
    "Appt_No_Show = sns.countplot(y = df.Wait_Description, hue = df.No_show);\n",
    "Appt_No_Show.set_title('Appointment Attendance and Appointment Wait Times');"
   ]
  },
  {
   "cell_type": "markdown",
   "metadata": {},
   "source": [
    "<p>The pie chart helped visualize the spread between appointments scheduled on the same day, within the same week, and in other time ranges. The count plot histogram reveals that a majority of those same day appointments resulted in a patient showing up to their appointment. The next greatest amount of attendance for appointments were those scheduled out between 1-7 days, with the next likely time period for showing up to the appointment being in the 15-30 day range. The least likely time period for a patient to show up to their appointment is when it was scheduled within 1-7 days.</p>"
   ]
  },
  {
   "cell_type": "markdown",
   "metadata": {},
   "source": [
    "--------------------------------------------------------------------------------------------------------------------------------------------------------------------------------"
   ]
  },
  {
   "cell_type": "markdown",
   "metadata": {},
   "source": [
    "#### Age"
   ]
  },
  {
   "cell_type": "code",
   "execution_count": 29,
   "metadata": {},
   "outputs": [
    {
     "data": {
      "text/plain": [
       "count    110521.000000\n",
       "mean         37.089386\n",
       "std          23.109885\n",
       "min           0.000000\n",
       "25%          18.000000\n",
       "50%          37.000000\n",
       "75%          55.000000\n",
       "max         115.000000\n",
       "Name: Age, dtype: float64"
      ]
     },
     "execution_count": 29,
     "metadata": {},
     "output_type": "execute_result"
    }
   ],
   "source": [
    "#Getting the description of the Age column\n",
    "df.Age.describe()"
   ]
  },
  {
   "cell_type": "code",
   "execution_count": 30,
   "metadata": {},
   "outputs": [
    {
     "data": {
      "text/plain": [
       "Adult          37486\n",
       "Middle Aged    22993\n",
       "Child          19943\n",
       "Young Adult    16729\n",
       "Teen            7435\n",
       "Senior          5935\n",
       "Name: Age_Groups, dtype: int64"
      ]
     },
     "execution_count": 30,
     "metadata": {},
     "output_type": "execute_result"
    }
   ],
   "source": [
    "#Organizing data for visualization - sorting into age groups \n",
    "# 0-11, 12-17, 18-29, 30-54, 55-74, 75-119\n",
    "bins = [0, 12, 18, 30, 55, 75, 120]\n",
    "labels = ['Child', 'Teen', 'Young Adult', 'Adult', 'Middle Aged', 'Senior']\n",
    "\n",
    "Age_Groups = pd.cut(df.Age, bins, right=False, labels=labels)\n",
    "df['Age_Groups'] = Age_Groups\n",
    "df.Age_Groups.value_counts()"
   ]
  },
  {
   "cell_type": "code",
   "execution_count": 31,
   "metadata": {},
   "outputs": [
    {
     "data": {
      "image/png": "[encoded data removed]",
      "text/plain": [
       "<Figure size 576x576 with 1 Axes>"
      ]
     },
     "metadata": {
      "needs_background": "dark"
     },
     "output_type": "display_data"
    }
   ],
   "source": [
    "Ages = df.Age_Groups.value_counts()\n",
    "Ages\n",
    "Ages.plot(kind='bar', title='Age Groups', figsize = (8,8));"
   ]
  },
  {
   "cell_type": "markdown",
   "metadata": {},
   "source": [
    "<p>The bar chart above shows that patients in the Adult age category (30-54 years) were the most likely to have an appointment scheduled. The next group with the most appointments were patients in the Middle Aged category (55-74 years), but followed closely by the Child age category (0-11 years). Teens (12-17 years) and surprisingy, Seniors (75-119 years), were the least likely to have appointments.</p>"
   ]
  },
  {
   "cell_type": "markdown",
   "metadata": {},
   "source": [
    "#### Age and Appointment Attendance"
   ]
  },
  {
   "cell_type": "code",
   "execution_count": 32,
   "metadata": {},
   "outputs": [
    {
     "data": {
      "image/png": "[encoded data removed]",
      "text/plain": [
       "<Figure size 432x288 with 1 Axes>"
      ]
     },
     "metadata": {
      "needs_background": "dark"
     },
     "output_type": "display_data"
    }
   ],
   "source": [
    "Age_No_Show = sns.countplot(y=df.Age_Groups, hue=df.No_show)\n",
    "Age_No_Show.set_title('Age Groups and Appointment Attendance');"
   ]
  },
  {
   "cell_type": "markdown",
   "metadata": {},
   "source": [
    "<p>The histogram count plot shows that patients in the Adult age category arrived at their appointment by the widest margin. Patients who are Middle Aged or Children are the next groups likely to show up to their appointment. This makes sense since these age groups hold the majority of appointments scheduled. In terms of which age groups did not show up to their appointments, Adults do have the greatest amount, followed by Children and Young Adults.</p>"
   ]
  },
  {
   "cell_type": "markdown",
   "metadata": {},
   "source": [
    "--------------------------------------------------------------------------------------------------------------------------------------------------------------------------------"
   ]
  },
  {
   "cell_type": "markdown",
   "metadata": {},
   "source": [
    "#### Medical Conditions"
   ]
  },
  {
   "cell_type": "code",
   "execution_count": 33,
   "metadata": {},
   "outputs": [
    {
     "data": {
      "text/plain": [
       "count    110521.000000\n",
       "mean          0.030401\n",
       "std           0.171690\n",
       "min           0.000000\n",
       "25%           0.000000\n",
       "50%           0.000000\n",
       "75%           0.000000\n",
       "max           1.000000\n",
       "Name: Alcoholism, dtype: float64"
      ]
     },
     "execution_count": 33,
     "metadata": {},
     "output_type": "execute_result"
    }
   ],
   "source": [
    "df['Alcoholism'].describe()\n",
    "#df['Hypertension'].describe()\n",
    "#df['Diabetes'].describe()"
   ]
  },
  {
   "cell_type": "code",
   "execution_count": 78,
   "metadata": {},
   "outputs": [
    {
     "data": {
      "text/plain": [
       "0    85306\n",
       "1    17582\n",
       "2     7377\n",
       "3      256\n",
       "Name: Medical_Condition, dtype: int64"
      ]
     },
     "execution_count": 78,
     "metadata": {},
     "output_type": "execute_result"
    }
   ],
   "source": [
    "#Combining hyertension, alcoholism, and diabetes into a broader catgory called Medical Condition\n",
    "df['Medical_Condition'] = df.Hypertension + df.Diabetes + df.Alcoholism\n",
    "df.Medical_Condition.value_counts()"
   ]
  },
  {
   "cell_type": "code",
   "execution_count": 79,
   "metadata": {},
   "outputs": [
    {
     "data": {
      "text/plain": [
       "0    85306\n",
       "1    25215\n",
       "Name: Medical_Condition, dtype: int64"
      ]
     },
     "execution_count": 79,
     "metadata": {},
     "output_type": "execute_result"
    }
   ],
   "source": [
    "#Getting counts of patients with a medical condition \n",
    "df['Medical_Condition'].replace(to_replace=[2,3], value=1, inplace=True)\n",
    "df.Medical_Condition.value_counts()"
   ]
  },
  {
   "cell_type": "code",
   "execution_count": 85,
   "metadata": {},
   "outputs": [
    {
     "data": {
      "text/plain": [
       "0    77.185331\n",
       "1    22.814669\n",
       "Name: Medical_Condition, dtype: float64"
      ]
     },
     "execution_count": 85,
     "metadata": {},
     "output_type": "execute_result"
    }
   ],
   "source": [
    "#Getting percentages\n",
    "df.Medical_Condition.value_counts('Medical_Condition') *100"
   ]
  },
  {
   "cell_type": "code",
   "execution_count": 81,
   "metadata": {},
   "outputs": [],
   "source": [
    "Med = df['Medical_Condition'].value_counts()"
   ]
  },
  {
   "cell_type": "code",
   "execution_count": 82,
   "metadata": {},
   "outputs": [
    {
     "data": {
      "image/png": "[encoded data removed]",
      "text/plain": [
       "<Figure size 432x288 with 1 Axes>"
      ]
     },
     "metadata": {},
     "output_type": "display_data"
    }
   ],
   "source": [
    "#Plot medical concerns with a pie chart\n",
    "condition = Med\n",
    "labels = ['No', 'Yes']\n",
    "explode = (0.2, 0)\n",
    "\n",
    "plt.pie(condition, labels = labels, explode = explode, autopct= '%1.1f%%', counterclock=True, textprops={'color':'black'});\n",
    "plt.title('Patients with a Medical Condition (Alcoholsim, Diabetes, Hypertension)');"
   ]
  },
  {
   "cell_type": "markdown",
   "metadata": {},
   "source": [
    "<p>A majority of patients do not have a medical concern (around 77%).</p>"
   ]
  },
  {
   "cell_type": "markdown",
   "metadata": {},
   "source": [
    "#### Medical Conditions and Appointment Attendance"
   ]
  },
  {
   "cell_type": "code",
   "execution_count": 86,
   "metadata": {},
   "outputs": [
    {
     "data": {
      "image/png": "[encoded data removed]",
      "text/plain": [
       "<Figure size 432x288 with 1 Axes>"
      ]
     },
     "metadata": {
      "needs_background": "dark"
     },
     "output_type": "display_data"
    }
   ],
   "source": [
    "Med_No_Show = sns.countplot(x=df.Medical_Condition, hue = df.No_show)\n",
    "Med_No_Show.set_title('Medical Conditions and Appointment Attendance');"
   ]
  },
  {
   "cell_type": "markdown",
   "metadata": {},
   "source": [
    "<p>The majority of patients do not have a medical condition (alcoholism, diabetes, or hypertension), and the majority of those patients showed up to their appointments. Overall this isn't surprising. The patients with a medical condition were more likely to show up to their appointment as well. The patients without a medical condition were more likely to be a no show than patients with a medical condition.</p>"
   ]
  },
  {
   "cell_type": "markdown",
   "metadata": {},
   "source": [
    "--------------------------------------------------------------------------------------------------------------------------------------------------------------------------------"
   ]
  },
  {
   "cell_type": "markdown",
   "metadata": {},
   "source": [
    "#### Technology Usage"
   ]
  },
  {
   "cell_type": "code",
   "execution_count": 40,
   "metadata": {},
   "outputs": [
    {
     "data": {
      "text/plain": [
       "count    110521.000000\n",
       "mean          0.321043\n",
       "std           0.466879\n",
       "min           0.000000\n",
       "25%           0.000000\n",
       "50%           0.000000\n",
       "75%           1.000000\n",
       "max           1.000000\n",
       "Name: SMS_received, dtype: float64"
      ]
     },
     "execution_count": 40,
     "metadata": {},
     "output_type": "execute_result"
    }
   ],
   "source": [
    "df.SMS_received.describe()"
   ]
  },
  {
   "cell_type": "code",
   "execution_count": 41,
   "metadata": {},
   "outputs": [
    {
     "data": {
      "text/plain": [
       "0    75039\n",
       "1    35482\n",
       "Name: SMS_received, dtype: int64"
      ]
     },
     "execution_count": 41,
     "metadata": {},
     "output_type": "execute_result"
    }
   ],
   "source": [
    "Text = df.SMS_received.value_counts()\n",
    "Text"
   ]
  },
  {
   "cell_type": "code",
   "execution_count": 42,
   "metadata": {},
   "outputs": [
    {
     "data": {
      "image/png": "[encoded data removed]",
      "text/plain": [
       "<Figure size 576x576 with 1 Axes>"
      ]
     },
     "metadata": {
      "needs_background": "dark"
     },
     "output_type": "display_data"
    }
   ],
   "source": [
    "Text.plot(kind='bar', title = 'Text Message Received: Yes (1) or No (0)', figsize=(8,8));"
   ]
  },
  {
   "cell_type": "code",
   "execution_count": 43,
   "metadata": {},
   "outputs": [
    {
     "data": {
      "text/plain": [
       "0    67.895694\n",
       "1    32.104306\n",
       "Name: SMS_received, dtype: float64"
      ]
     },
     "execution_count": 43,
     "metadata": {},
     "output_type": "execute_result"
    }
   ],
   "source": [
    "Text_Percent = df.SMS_received.value_counts('SMS_received')*100\n",
    "Text_Percent"
   ]
  },
  {
   "cell_type": "code",
   "execution_count": 63,
   "metadata": {},
   "outputs": [
    {
     "data": {
      "image/png": "[encoded data removed]",
      "text/plain": [
       "<Figure size 432x288 with 1 Axes>"
      ]
     },
     "metadata": {},
     "output_type": "display_data"
    }
   ],
   "source": [
    "#Showing data in a pie chart\n",
    "percent = Text_Percent\n",
    "labels = ['No', 'Yes']\n",
    "explode = (0.2, 0)\n",
    "\n",
    "plt.pie(percent, labels = labels, explode = explode, autopct= '%1.1f%%', counterclock=True, textprops={'color':'black'});\n",
    "plt.title('Text Message Received (Yes or No)');"
   ]
  },
  {
   "cell_type": "markdown",
   "metadata": {},
   "source": [
    "<p>A majority of patients did not receive a text message prior to their appointment.</p>"
   ]
  },
  {
   "cell_type": "markdown",
   "metadata": {},
   "source": [
    "#### Technology Usage and Appointment Attendance"
   ]
  },
  {
   "cell_type": "code",
   "execution_count": 45,
   "metadata": {},
   "outputs": [
    {
     "data": {
      "image/png": "[encoded data removed]",
      "text/plain": [
       "<Figure size 432x288 with 1 Axes>"
      ]
     },
     "metadata": {
      "needs_background": "dark"
     },
     "output_type": "display_data"
    }
   ],
   "source": [
    "Text_No_Show = sns.countplot(x=df.SMS_received, hue = df.No_show)\n",
    "Text_No_Show.set_title('Text Message Received: Yes (1) or No (0) and Appointment Attendance');"
   ]
  },
  {
   "cell_type": "markdown",
   "metadata": {},
   "source": [
    "<p>The majority of patients who did not receive a text message for their appointment, showed up for their appointment. Even those patients who did receive a text message showed up to their appointment. Those who did not receieve a text were more likely to be a no show by a narrow marigin over those who did receive a text message.</p>"
   ]
  },
  {
   "cell_type": "markdown",
   "metadata": {},
   "source": [
    "******"
   ]
  },
  {
   "cell_type": "markdown",
   "metadata": {},
   "source": [
    "<a id='conclusions'></a>\n",
    "## Conclusions\n",
    "\n",
    "<p>In conclusion, I observed the following regarding each category of data:</p>\n",
    "<ul>\n",
    "    <li>Total No Show Percentage: total no show appointments is far less than the number of appointments that patients did attend. There are a multitude of factors that play into this trend including those that were analyzed in this report (gender, age, wait time, medical conditions, and technology usage) and factors that weren't represented in this data set (patient income, distance between neighborhood and the hospital, hospital monetary/time/personnel resources, and transportation to name a few).</li>\n",
    "    <li>Gender: females make up 65% of total appointments scheduled, and were more likely to show up for those appointments compared to males. Out of the patients who did not show up for their appointment, females were more likely than males to be a no show. </li>\n",
    "    <li>Appointment Wait Time: over half of total appointments were scheduled on the same day, or within 1-7 days. A majority of those same day appointments resulted in attendance, which is interesting when considering this is lowest possible amount of time passing between scheduling an appointment and attending it. Patients were also likely to attend their appointment when they scheduled it in the 15-30 day range. Patients were the least likely to not show up to their appointment when it was scheduled in the 1-7 day range.</li>\n",
    "    <li>Age: patients in the adult age catefory (ages 30-54 years) were the least likely to arrive at their appointment. Teens (ages 12-17 years) and seniors (ages 75-119 years) had the lowest amount of total appointments, but teens were more likely than seniors to show up at their appointment.</li>\n",
    "    <li>Medical Conditions: 77% of patients in this dataset do not have a medical condition (alcoholism, diabetes, or hypertension), and they were also more likely to show up to their appointments, but they were also more likely to be no shows when compared to those who had a medical condition(s).</li>\n",
    "    <li>Technology Usage: the majority of patients who did not receive a text message for their appointment still attended their appointments. Those patients who did receive a text message were also showed up to their appointments more than no shows.</li>\n",
    "</ul>\n",
    "<p>I chose to not analyze the neighborhood, the handicap, or the scholarship data in this analysis because I felt there was not enough information to draw significant conclusions from, and concerns over my analysis being too speculative.</p>\n",
    "<p>My analysis is limited in the fact that I primarly compared different data categories to only the no show data, and did not compare the data categories against each other. I felt this was a secondary priority of my analysis and decided to only focus on the variety of factors that could result in an appointment no show.</p>"
   ]
  },
  {
   "cell_type": "markdown",
   "metadata": {},
   "source": [
    "--------------------------------------------------------------------------------------------------------------------------------------------------------------------------------"
   ]
  },
  {
   "cell_type": "markdown",
   "metadata": {},
   "source": [
    "<a id='resources'></a>\n",
    "    \n",
    "## Resources\n",
    "<p>The following is a list of resources I used during this project:</p>\n",
    "\n",
    "<ul>\n",
    "    <li><a href=\"https://medium.com/ibm-data-science-experience/markdown-for-jupyter-notebooks-cheatsheet-386c05aeebed\">Markdown for Jupyter Notebooks</a></li>\n",
    "    <li><a href=\"https://patientengagementhit.com/news/patient-education-scheduling-fixes-shrink-patient-no-show-rates\">Patient Education, Scheduling Fixes Shrink Patient No-Show Rates</a></li>\n",
    "    <li><a href=\"https://jakevdp.github.io/PythonDataScienceHandbook/03.11-working-with-time-series.html\">Working with Time Series</a></li>\n",
    "    <li><a href=\"https://seaborn.pydata.org/tutorial/distributions.html\">Visualizing the distribution of a dataset</a></li>\n",
    "    <li><a href=\"https://seaborn.pydata.org/generated/seaborn.countplot.html\">Seaborn Countplot</a></li>\n",
    "    <li><a href=\"https://www.kaggle.com/joniarroba/noshowappointments/home\">Kaggle - Medical Appointment No Shows</a></li>\n",
    "    <li><a href=\"https://matplotlib.org/gallery/pie_and_polar_charts/pie_features.html#sphx-glr-gallery-pie-and-polar-charts-pie-features-py\">Basic Pie Chart - Matplotlib</a></li>\n",
    "</ul>\n",
    "\n"
   ]
  },
  {
   "cell_type": "markdown",
   "metadata": {},
   "source": [
    "## Table of Contents (again)\n",
    "<ul>\n",
    "<li><a href=\"#intro\">Introduction</a></li>\n",
    "<li><a href=\"#wrangling\">Data Wrangling</a></li>\n",
    "<li><a href=\"#eda\">Exploratory Data Analysis</a></li>\n",
    "<li><a href=\"#conclusions\">Conclusions</a></li>\n",
    "<li><a href=\"#resources\">Resources</a></li>\n",
    "</ul>"
   ]
  }
 ],
 "metadata": {
  "kernelspec": {
   "display_name": "Python 3",
   "language": "python",
   "name": "python3"
  },
  "language_info": {
   "codemirror_mode": {
    "name": "ipython",
    "version": 3
   },
   "file_extension": ".py",
   "mimetype": "text/x-python",
   "name": "python",
   "nbconvert_exporter": "python",
   "pygments_lexer": "ipython3",
   "version": "3.7.1"
  }
 },
 "nbformat": 4,
 "nbformat_minor": 2
}
